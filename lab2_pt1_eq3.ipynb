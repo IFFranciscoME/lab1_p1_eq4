{
 "cells": [
  {
   "cell_type": "code",
   "execution_count": 1,
   "metadata": {},
   "outputs": [],
   "source": [
    "# Laboratorio 3\n",
    "## Microestructuras y Sistemas de Trading\n",
    "###  Karen Medel y Pablo Mendoza\n"
   ]
  },
  {
   "cell_type": "code",
   "execution_count": 2,
   "metadata": {},
   "outputs": [],
   "source": [
    "# -- Libraries Importation -- #\n",
    "import ta as ta\n",
    "import numpy as np\n",
    "import pandas as pd\n",
    "%matplotlib inline\n",
    "from oandapyV20 import API\n",
    "import matplotlib.pyplot as plt\n",
    "from datetime import date\n",
    "from dateutil.relativedelta import relativedelta\n",
    "import oandapyV20.endpoints.instruments as instruments\n",
    "# -- DataFrame Parameters -- #\n",
    "pd.set_option('display.max_rows', 20)\n",
    "pd.set_option('display.max_columns', 20)\n",
    "pd.set_option('display.width', 1000)\n"
   ]
  },
  {
   "cell_type": "code",
   "execution_count": 3,
   "metadata": {},
   "outputs": [],
   "source": [
    "# -- OANDA Parameters -- #\n",
    "A1_OA_Da = 16                     # Day Align\n",
    "A1_OA_Ta = \"America/Mexico_City\"  # Time Align\n",
    "A1_OA_Ai = \"101-004-2221697-001\"  # Id de cuenta\n",
    "A1_OA_At = \"practice\"             # Tipo de cuenta\n",
    "A1_OA_In = \"USD_MXN\"              # Instrumento\n",
    "A1_OA_Gn = \"M5\"                   # Granularidad de velas (Minutes 5)\n",
    "A1_OA_Ak = '4' + 'df969137c0bf800c5a04604c49450db-0e783d4124aa50b5736ebfe1a350eac' + '1'\n",
    "\n",
    "# -- Data Range Function -- # \n",
    "\n",
    "\n",
    "def date_range(start_date_, end_date_, increment, period):\n",
    "    \"\"\"\n",
    "    This function creates a list of the data range that will be imported\n",
    "    :param start_date_: Start Date\n",
    "    :param end_date_: End Date\n",
    "    :param increment: number of increments\n",
    "    :param period: type of increment (days, hours, minutes, etc)\n",
    "    :return: list of the data range\n",
    "    \"\"\"\n",
    "    result = []\n",
    "    nxt = start_date_\n",
    "    delta = relativedelta(**{period: increment})\n",
    "    while nxt <= end_date_:\n",
    "        result.append(nxt)\n",
    "        nxt += delta\n",
    "    return result\n"
   ]
  },
  {
   "cell_type": "code",
   "execution_count": null,
   "metadata": {},
   "outputs": [],
   "source": [
    "# -- Download Initial Data -- #\n",
    "start_date = date(2019, 2, 25)  # Date for all transactions date(2017, 2, 16)\n",
    "end_date = date(2019, 3, 5)  # Date for all transactions date(2019, 3, 5)\n",
    "date_a = date_range(start_date, end_date, 1, 'days')\n",
    "list_a = []\n",
    "for n_date in range(len(date_a)-1):\n",
    "    F1 = date_a[n_date].strftime('%Y-%m-%dT%H:%M:%S')\n",
    "    F2 = date_a[n_date+1].strftime('%Y-%m-%dT%H:%M:%S')\n",
    "    \n",
    "    # -- OANDA API Initialisation -- #\n",
    "    api = API(access_token=A1_OA_Ak)\n",
    "    # -- Historical DAta Download -- #\n",
    "    params = {\"granularity\": A1_OA_Gn, \"price\": \"M\", \"dailyAlignment\": A1_OA_Da,\n",
    "              \"alignmentTimezone\": A1_OA_Ta, \"from\": F1, \"to\": F2}\n",
    "    A1_Req1 = instruments.InstrumentsCandles(instrument=A1_OA_In, params=params)\n",
    "    A1_Hist = api.request(A1_Req1)\n",
    "    for i in range(len(A1_Hist['candles'])-1):\n",
    "            list_a.append({'TimeStamp': A1_Hist['candles'][i]['time'],\n",
    "                           'Open': A1_Hist['candles'][i]['mid']['o'],\n",
    "                           'High': A1_Hist['candles'][i]['mid']['h'],\n",
    "                           'Low': A1_Hist['candles'][i]['mid']['l'],\n",
    "                           'Close': A1_Hist['candles'][i]['mid']['c']})\n",
    "\n",
    "pd_hist = pd.DataFrame(list_a)\n",
    "pd_hist = pd_hist[['TimeStamp', 'Open', 'High', 'Low', 'Close']]\n",
    "pd_hist['TimeStamp'] = pd.to_datetime(pd_hist['TimeStamp'])\n",
    "pd_hist['Open'] = pd.to_numeric(pd_hist['Open'])\n",
    "pd_hist['High'] = pd.to_numeric(pd_hist['High'])\n",
    "pd_hist['Low'] = pd.to_numeric(pd_hist['Low'])\n",
    "pd_hist['Close'] = pd.to_numeric(pd_hist['Close'])\n",
    "print(pd_hist.head())\n",
    "print(pd_hist.tail())\n",
    "# -- Data Structure -- #\n",
    "df1_Prices = pd_hist\n",
    "# df1_Prices.to_csv('Data_Set_Technical_Analysis.csv')\n",
    "\n"
   ]
  },
  {
   "cell_type": "code",
   "execution_count": 4,
   "metadata": {},
   "outputs": [],
   "source": [
    "# -- Indicators Functions from Technical Analysis (T.A.) -- #\n",
    "# These functions will add a column to the Historical DataFrame with the value of the indicator.\n",
    "# T.A. library has implemented 32 indicators:\n",
    "## Volume\n",
    "    # Accumulation/Distribution Index (ADI)\n",
    "    # On-Balance Volume (OBV)\n",
    "    # On-Balance Volume mean (OBV mean)\n",
    "    # Chaikin Money Flow (CMF)\n",
    "    # Force Index (FI)\n",
    "    # Ease of Movement (EoM, EMV)\n",
    "    # Volume-price Trend (VPT)\n",
    "    # Negative Volume Index (NVI)\n",
    "## Volatility\n",
    "    # Average True Range (ATR)\n",
    "    # Bollinger Bands (BB)\n",
    "    # Keltner Channel (KC)\n",
    "    # Donchian Channel (DC)\n",
    "## Trend\n",
    "    # Moving Average Convergence Divergence (MACD)\n",
    "    # Average Directional Movement Index (ADX)\n",
    "    # Vortex Indicator (VI)\n",
    "    # Trix (TRIX)\n",
    "    # Mass Index (MI)\n",
    "    # Commodity Channel Index (CCI)\n",
    "    # Detrended Price Oscillator (DPO)\n",
    "    # KST Oscillator (KST)\n",
    "    # Ichimoku Kinkō Hyō (Ichimoku)\n",
    "## Momentum\n",
    "    # Money Flow Index (MFI)\n",
    "    # Relative Strength Index (RSI)\n",
    "    # True strength index (TSI)\n",
    "    # Ultimate Oscillator (UO)\n",
    "    # Stochastic Oscillator (SR)\n",
    "    # Williams %R (WR)\n",
    "    # Awesome Oscillator (AO)\n",
    "## Others\n",
    "    # Daily Return (DR)\n",
    "    # Daily Log Return (DLR)\n",
    "    # Cumulative Return (CR)\n",
    "    "
   ]
  },
  {
   "cell_type": "code",
   "execution_count": 5,
   "metadata": {},
   "outputs": [],
   "source": [
    "df1_Prices = pd.read_csv('Data_Set_Technical_Analysis.csv')  # size (151536, 6)\n",
    "df1_Prices = df1_Prices.iloc[0:500, :]\n",
    "# -- Technical Analysis Indicators Calculations -- #\n",
    "df1_Prices['BBH_Close'] = ta.bollinger_hband(df1_Prices['Close'], 150)\n",
    "df1_Prices['BBL_Close'] = ta.bollinger_lband(df1_Prices['Close'], 150)\n",
    "df1_Prices['RSI_Close'] = ta.rsi(df1_Prices['Close'], 51)\n",
    "df1_Prices['STO_Close'] = ta.momentum.stoch(df1_Prices['High'], df1_Prices['Low'], df1_Prices['Close'], 200, False)\n"
   ]
  },
  {
   "cell_type": "code",
   "execution_count": 6,
   "metadata": {},
   "outputs": [
    {
     "data": {
      "image/png": "[encoded data removed]",
      "text/plain": [
       "<matplotlib.figure.Figure at 0x11ddfa5f8>"
      ]
     },
     "metadata": {},
     "output_type": "display_data"
    },
    {
     "data": {
      "image/png": "[encoded data removed]",
      "text/plain": [
       "<matplotlib.figure.Figure at 0x11ba3f198>"
      ]
     },
     "metadata": {},
     "output_type": "display_data"
    },
    {
     "data": {
      "image/png": "[encoded data removed]",
      "text/plain": [
       "<matplotlib.figure.Figure at 0x11de18f28>"
      ]
     },
     "metadata": {},
     "output_type": "display_data"
    }
   ],
   "source": [
    "# -- Indicators Functions to Open and Close positions -- #\n",
    "# These functions will Open and Close positions depending of the values of each T.A. indicators.\n",
    "# For opening operations, Take Profit (TP) level will be 2000 pips from spot.\n",
    "# For closing operations, Stop Loss (SL) level will be 1000 pips from spot.\n",
    "# TP and SL levels will be above or below spot depending if the position is Long or Short.\n",
    "# -- Activation and Deactivation Parameters\n",
    "# Bollinger Bands activate when the spot cross the Bollinger Bands from bellow(High Band) and from above(Low Band)\n",
    "RSI_Param_UP = 75\n",
    "RSI_Param_DW = 25\n",
    "STO_Param_UP = 90\n",
    "STO_Param_DW = 10\n",
    "TP = .0200\n",
    "SL = .0100\n",
    "Units = 10\n",
    "\n",
    "# -- Axes Legend -- #\n",
    "n_tick = 10\n",
    "list_a_ = [(np.floor(len(df1_Prices)/n_tick)), (np.floor(len(df1_Prices)/n_tick))]\n",
    "list_b_ = [np.arange(n_tick)]\n",
    "c = [a*b for a, b in zip(list_a_, list_b_)]\n",
    "d = tuple([(str(df1_Prices['TimeStamp'][i])[0:10]) for i in c[0]])\n",
    "# -- Bollinger Bands Graph -- #\n",
    "plt.figure(1, figsize=(10, 5))\n",
    "plt.title('Close Price and Bollinger Bands')\n",
    "plt.plot(df1_Prices['Close'], label='Close')\n",
    "plt.plot(df1_Prices['BBH_Close'], label='BBH')\n",
    "plt.plot(df1_Prices['BBL_Close'], label='BBL')\n",
    "plt.xticks(rotation=70)\n",
    "plt.xticks(np.arange(0, len(df1_Prices), len(df1_Prices)/n_tick), d)\n",
    "plt.legend()\n",
    "plt.show()\n",
    "\n",
    "# -- RSI Graph -- #\n",
    "plt.figure(2, figsize=(10, 5))\n",
    "plt.title('Relative Strength Index')\n",
    "plt.plot(df1_Prices['RSI_Close'], label='RSI')\n",
    "plt.plot(np.ones(len(df1_Prices))*RSI_Param_UP)\n",
    "plt.plot(np.ones(len(df1_Prices))*RSI_Param_DW)\n",
    "plt.xticks(rotation=70)\n",
    "plt.xticks(np.arange(0, len(df1_Prices), len(df1_Prices)/n_tick), d)\n",
    "plt.legend()\n",
    "plt.show()\n",
    "\n",
    "# -- Stochastic Oscilator Graph -- #\n",
    "plt.figure(3, figsize=(10, 5))\n",
    "plt.title('Stochastic Oscillator')\n",
    "plt.plot(df1_Prices['STO_Close'], label='Stochastic Oscillator')\n",
    "plt.plot(np.ones(len(df1_Prices))*STO_Param_UP)\n",
    "plt.plot(np.ones(len(df1_Prices))*STO_Param_DW)\n",
    "plt.xticks(rotation=70)\n",
    "plt.xticks(np.arange(0, len(df1_Prices), len(df1_Prices)/n_tick), d)\n",
    "plt.legend()\n",
    "plt.show()\n"
   ]
  },
  {
   "cell_type": "code",
   "execution_count": 7,
   "metadata": {},
   "outputs": [],
   "source": [
    "# -- Paso 2 -- en Data Frame (df2_operaciones)\n",
    "# -- -- Fecha, Folio (1 a n), Operacion (1 = compra, -1 = venta), Unidades (0 a n),\n",
    "# -- -- Margen (0 a n), Comentario (\"razon con base al indicador\")\n",
    "# -- -- Precio_apertura, Precio_cierre"
   ]
  },
  {
   "cell_type": "code",
   "execution_count": 8,
   "metadata": {},
   "outputs": [
    {
     "name": "stdout",
     "output_type": "stream",
     "text": [
      "0\n100\n"
     ]
    },
    {
     "name": "stderr",
     "output_type": "stream",
     "text": [
      "/Users/pablomendoza/Pycharm/lib/python3.6/site-packages/ipykernel_launcher.py:57: SettingWithCopyWarning: \nA value is trying to be set on a copy of a slice from a DataFrame\n\nSee the caveats in the documentation: http://pandas.pydata.org/pandas-docs/stable/indexing.html#indexing-view-versus-copy\n/Users/pablomendoza/Pycharm/lib/python3.6/site-packages/ipykernel_launcher.py:58: SettingWithCopyWarning: \nA value is trying to be set on a copy of a slice from a DataFrame\n\nSee the caveats in the documentation: http://pandas.pydata.org/pandas-docs/stable/indexing.html#indexing-view-versus-copy\n/Users/pablomendoza/Pycharm/lib/python3.6/site-packages/ipykernel_launcher.py:59: SettingWithCopyWarning: \nA value is trying to be set on a copy of a slice from a DataFrame\n\nSee the caveats in the documentation: http://pandas.pydata.org/pandas-docs/stable/indexing.html#indexing-view-versus-copy\n"
     ]
    },
    {
     "name": "stderr",
     "output_type": "stream",
     "text": [
      "/Users/pablomendoza/Pycharm/lib/python3.6/site-packages/ipykernel_launcher.py:52: SettingWithCopyWarning: \nA value is trying to be set on a copy of a slice from a DataFrame\n\nSee the caveats in the documentation: http://pandas.pydata.org/pandas-docs/stable/indexing.html#indexing-view-versus-copy\n/Users/pablomendoza/Pycharm/lib/python3.6/site-packages/ipykernel_launcher.py:53: SettingWithCopyWarning: \nA value is trying to be set on a copy of a slice from a DataFrame\n\nSee the caveats in the documentation: http://pandas.pydata.org/pandas-docs/stable/indexing.html#indexing-view-versus-copy\n/Users/pablomendoza/Pycharm/lib/python3.6/site-packages/ipykernel_launcher.py:54: SettingWithCopyWarning: \nA value is trying to be set on a copy of a slice from a DataFrame\n\nSee the caveats in the documentation: http://pandas.pydata.org/pandas-docs/stable/indexing.html#indexing-view-versus-copy\n"
     ]
    },
    {
     "name": "stdout",
     "output_type": "stream",
     "text": [
      "200\n"
     ]
    },
    {
     "name": "stdout",
     "output_type": "stream",
     "text": [
      "300\n"
     ]
    },
    {
     "name": "stdout",
     "output_type": "stream",
     "text": [
      "400\n"
     ]
    },
    {
     "name": "stderr",
     "output_type": "stream",
     "text": [
      "/Users/pablomendoza/Pycharm/lib/python3.6/site-packages/ipykernel_launcher.py:47: SettingWithCopyWarning: \nA value is trying to be set on a copy of a slice from a DataFrame\n\nSee the caveats in the documentation: http://pandas.pydata.org/pandas-docs/stable/indexing.html#indexing-view-versus-copy\n/Users/pablomendoza/Pycharm/lib/python3.6/site-packages/ipykernel_launcher.py:48: SettingWithCopyWarning: \nA value is trying to be set on a copy of a slice from a DataFrame\n\nSee the caveats in the documentation: http://pandas.pydata.org/pandas-docs/stable/indexing.html#indexing-view-versus-copy\n/Users/pablomendoza/Pycharm/lib/python3.6/site-packages/ipykernel_launcher.py:49: SettingWithCopyWarning: \nA value is trying to be set on a copy of a slice from a DataFrame\n\nSee the caveats in the documentation: http://pandas.pydata.org/pandas-docs/stable/indexing.html#indexing-view-versus-copy\n/Users/pablomendoza/Pycharm/lib/python3.6/site-packages/ipykernel_launcher.py:42: SettingWithCopyWarning: \nA value is trying to be set on a copy of a slice from a DataFrame\n\nSee the caveats in the documentation: http://pandas.pydata.org/pandas-docs/stable/indexing.html#indexing-view-versus-copy\n/Users/pablomendoza/Pycharm/lib/python3.6/site-packages/ipykernel_launcher.py:43: SettingWithCopyWarning: \nA value is trying to be set on a copy of a slice from a DataFrame\n\nSee the caveats in the documentation: http://pandas.pydata.org/pandas-docs/stable/indexing.html#indexing-view-versus-copy\n/Users/pablomendoza/Pycharm/lib/python3.6/site-packages/ipykernel_launcher.py:44: SettingWithCopyWarning: \nA value is trying to be set on a copy of a slice from a DataFrame\n\nSee the caveats in the documentation: http://pandas.pydata.org/pandas-docs/stable/indexing.html#indexing-view-versus-copy\n"
     ]
    }
   ],
   "source": [
    "df2_Operations = pd.DataFrame(columns=['Folio', 'Ini_Date', 'End_Date', 'Operation_Type', 'Comment',\n",
    "                                       'Units', 'Spot', 'TP', 'SL', 'Status', 'Margin'])\n",
    "# -- Operation Open and Close Algorithm -- #\n",
    "for n_ in range(len(df1_Prices)):\n",
    "    # -- Add Operation -- #\n",
    "    if df1_Prices['RSI_Close'][n_] >= RSI_Param_UP:\n",
    "        df2_Operations.loc[-1] = ['Folio', str(df1_Prices['TimeStamp'][n_])[0:16], '-', 'Sell', 'RSI', \n",
    "                                  Units, df1_Prices['Close'][n_], df1_Prices['Close'][n_] - TP, \n",
    "                                  df1_Prices['Close'][n_] + SL, 'Open', '-']\n",
    "        df2_Operations.index = df2_Operations.index + 1\n",
    "    elif df1_Prices['RSI_Close'][n_] <= RSI_Param_DW:\n",
    "        df2_Operations.loc[-1] = ['Folio', str(df1_Prices['TimeStamp'][n_])[0:16], '-', 'Buy', 'RSI', \n",
    "                                  Units, df1_Prices['Close'][n_], df1_Prices['Close'][n_] + TP, \n",
    "                                  df1_Prices['Close'][n_] - SL, 'Open', '-']\n",
    "        df2_Operations.index = df2_Operations.index + 1   \n",
    "    elif df1_Prices['STO_Close'][n_] >= STO_Param_UP:\n",
    "        df2_Operations.loc[-1] = ['Folio', str(df1_Prices['TimeStamp'][n_])[0:16], '-', 'Sell', 'STO', \n",
    "                                  Units, df1_Prices['Close'][n_], df1_Prices['Close'][n_] - TP, \n",
    "                                  df1_Prices['Close'][n_] + SL, 'Open', '-']\n",
    "        df2_Operations.index = df2_Operations.index + 1\n",
    "    elif df1_Prices['STO_Close'][n_] <= STO_Param_DW:\n",
    "        df2_Operations.loc[-1] = ['Folio', str(df1_Prices['TimeStamp'][n_])[0:16], '-', 'Buy', 'STO', \n",
    "                                  Units, df1_Prices['Close'][n_], df1_Prices['Close'][n_] + TP, \n",
    "                                  df1_Prices['Close'][n_] - SL, 'Open', '-']\n",
    "        df2_Operations.index = df2_Operations.index + 1  \n",
    "    elif df1_Prices['BBL_Close'][n_] >= df1_Prices['Close'][n_]:\n",
    "        df2_Operations.loc[-1] = ['Folio', str(df1_Prices['TimeStamp'][n_])[0:16], '-', 'Buy', 'BBL', \n",
    "                                  Units, df1_Prices['Close'][n_], df1_Prices['Close'][n_] + TP, \n",
    "                                  df1_Prices['Close'][n_] - SL, 'Open', '-']\n",
    "        df2_Operations.index = df2_Operations.index + 1     \n",
    "    elif df1_Prices['BBH_Close'][n_] <= df1_Prices['Close'][n_]:\n",
    "        df2_Operations.loc[-1] = ['Folio', str(df1_Prices['TimeStamp'][n_])[0:16], '-', 'Sell', 'BBH', \n",
    "                                  Units, df1_Prices['Close'][n_], df1_Prices['Close'][n_] - TP, \n",
    "                                  df1_Prices['Close'][n_] + SL, 'Open', '-']\n",
    "        df2_Operations.index = df2_Operations.index + 1\n",
    "    else:\n",
    "        pass\n",
    "    # -- Check and Close Operation -- #\n",
    "    df_Temp = df2_Operations[df2_Operations['Status'] == 'Open']\n",
    "    for n_2 in df_Temp.index:\n",
    "        if df_Temp['Operation_Type'][n_2] == 'Buy' and df_Temp['TP'][n_2] <= df1_Prices['Close'][n_]:\n",
    "            df2_Operations['Status'][n_2] = 'Closed'\n",
    "            df2_Operations['End_Date'][n_2] = df1_Prices['TimeStamp'][n_]\n",
    "            df2_Operations['Margin'][n_2] = df1_Prices['Close'][n_] - df2_Operations['Spot'][n_2]\n",
    "            df_Temp = df2_Operations[df2_Operations['Status'] == 'Open']\n",
    "        elif df_Temp['Operation_Type'][n_2] == 'Buy' and df_Temp['SL'][n_2] >= df1_Prices['Close'][n_]:\n",
    "            df2_Operations['Status'][n_2] = 'Closed'\n",
    "            df2_Operations['End_Date'][n_2] = df1_Prices['TimeStamp'][n_]\n",
    "            df2_Operations['Margin'][n_2] = df1_Prices['Close'][n_] - df2_Operations['Spot'][n_2]\n",
    "            df_Temp = df2_Operations[df2_Operations['Status'] == 'Open']\n",
    "        elif df_Temp['Operation_Type'][n_2] == 'Sell' and df_Temp['TP'][n_2] >= df1_Prices['Close'][n_]: \n",
    "            df2_Operations['Status'][n_2] = 'Closed'\n",
    "            df2_Operations['End_Date'][n_2] = df1_Prices['TimeStamp'][n_]\n",
    "            df2_Operations['Margin'][n_2] = df2_Operations['Spot'][n_2] - df1_Prices['Close'][n_]\n",
    "            df_Temp = df2_Operations[df2_Operations['Status'] == 'Open']\n",
    "        elif df_Temp['Operation_Type'][n_2] == 'Sell' and df_Temp['SL'][n_2] <= df1_Prices['Close'][n_]:\n",
    "            df2_Operations['Status'][n_2] = 'Closed'\n",
    "            df2_Operations['End_Date'][n_2] = df1_Prices['TimeStamp'][n_]\n",
    "            df2_Operations['Margin'][n_2] = df2_Operations['Spot'][n_2] - df1_Prices['Close'][n_]\n",
    "            df_Temp = df2_Operations[df2_Operations['Status'] == 'Open']\n",
    "        else:\n",
    "            pass\n",
    "    if n_%100 == 0:\n",
    "        print(n_)\n"
   ]
  },
  {
   "cell_type": "code",
   "execution_count": 10,
   "metadata": {},
   "outputs": [
    {
     "name": "stdout",
     "output_type": "stream",
     "text": [
      "-0.17463999999995394\n"
     ]
    }
   ],
   "source": [
    "print(sum(df2_Operations[df2_Operations['Status'] == 'Closed']['Margin']))"
   ]
  },
  {
   "cell_type": "code",
   "execution_count": 10,
   "metadata": {},
   "outputs": [
    {
     "name": "stdout",
     "output_type": "stream",
     "text": [
      "     Folio          Ini_Date                   End_Date Operation_Type Comment Units      Spot        TP        SL  Status   Margin\n150  Folio  2017-02-16 20:15  2017-02-16 20:25:00+00:00           Sell     BBH    10  20.37046  20.35046  20.38046  Closed  -0.0238\n149  Folio  2017-02-16 20:20  2017-02-16 20:25:00+00:00           Sell     BBH    10  20.37594  20.35594  20.38594  Closed -0.01832\n148  Folio  2017-02-16 20:25  2017-02-16 20:55:00+00:00           Sell     BBH    10  20.39426  20.37426  20.40426  Closed  0.02025\n147  Folio  2017-02-16 20:30  2017-02-16 20:35:00+00:00           Sell     BBH    10  20.37495  20.35495  20.38495  Closed -0.01359\n146  Folio  2017-02-16 20:35  2017-02-16 21:25:00+00:00           Sell     BBH    10  20.38854  20.36854  20.39854  Closed  -0.0224\n145  Folio  2017-02-16 20:40  2017-02-16 21:25:00+00:00           Sell     BBH    10  20.38708  20.36708  20.39708  Closed -0.02386\n144  Folio  2017-02-16 20:45  2017-02-16 21:25:00+00:00           Sell     BBH    10  20.38690  20.36690  20.39690  Closed -0.02404\n143  Folio  2017-02-16 21:10  2017-02-16 21:25:00+00:00           Sell     BBH    10  20.38682  20.36682  20.39682  Closed -0.02412\n142  Folio  2017-02-16 21:15  2017-02-16 21:25:00+00:00           Sell     BBH    10  20.38642  20.36642  20.39642  Closed -0.02452\n141  Folio  2017-02-16 21:20  2017-02-16 21:25:00+00:00           Sell     BBH    10  20.38782  20.36782  20.39782  Closed -0.02312\n..     ...               ...                        ...            ...     ...   ...       ...       ...       ...     ...      ...\n9    Folio  2017-02-17 13:55  2017-02-17 14:10:00+00:00           Sell     BBH    10  20.52662  20.50662  20.53662  Closed  0.02262\n8    Folio  2017-02-17 14:00  2017-02-17 14:05:00+00:00           Sell     BBH    10  20.51922  20.49922  20.52922  Closed -0.01388\n7    Folio  2017-02-17 14:05  2017-02-17 14:10:00+00:00           Sell     STO    10  20.53310  20.51310  20.54310  Closed   0.0291\n6    Folio  2017-02-17 14:10  2017-02-17 14:20:00+00:00           Sell     BBH    10  20.50400  20.48400  20.51400  Closed  0.04293\n5    Folio  2017-02-17 18:25  2017-02-17 19:10:00+00:00            Buy     STO    10  20.38888  20.40888  20.37888  Closed  0.02069\n4    Folio  2017-02-17 18:35  2017-02-17 19:15:00+00:00            Buy     STO    10  20.39216  20.41216  20.38216  Closed  0.02458\n3    Folio  2017-02-17 18:40  2017-02-17 19:10:00+00:00            Buy     STO    10  20.38762  20.40762  20.37762  Closed  0.02195\n2    Folio  2017-02-17 18:45  2017-02-17 18:55:00+00:00            Buy     STO    10  20.40000  20.42000  20.39000  Closed -0.01337\n1    Folio  2017-02-17 18:55  2017-02-17 19:10:00+00:00            Buy     STO    10  20.38663  20.40663  20.37663  Closed  0.02294\n0    Folio  2017-02-17 19:00  2017-02-17 19:15:00+00:00            Buy     STO    10  20.39195  20.41195  20.38195  Closed  0.02479\n\n[151 rows x 11 columns]\n"
     ]
    }
   ],
   "source": [
    "print(df2_Operations[df2_Operations['Status'] == 'Closed'])"
   ]
  },
  {
   "cell_type": "code",
   "execution_count": 11,
   "metadata": {},
   "outputs": [
    {
     "name": "stdout",
     "output_type": "stream",
     "text": [
      "Empty DataFrame\nColumns: [Folio, Ini_Date, End_Date, Operation_Type, Comment, Units, Spot, TP, SL, Status, Margin]\nIndex: []\n"
     ]
    }
   ],
   "source": [
    "print(df2_Operations[df2_Operations['Status'] == 'Open'])"
   ]
  },
  {
   "cell_type": "code",
   "execution_count": null,
   "metadata": {},
   "outputs": [],
   "source": [
    "# -- Operation DataFrame -- #\n",
    "\n",
    "\n",
    "\n",
    "# -- Paso 3 -- en Data Frame Cuenta (df3_cuenta)\n",
    "# -- -- Fecha, Capital (Efectivo $), Flotante ($),\n",
    "# -- -- Balance (Capital+Flotante), Rend_Balance_acm, Comentario (\"Se abrio operacion: compra/venta\",\n",
    "# -- -- \"Se cerro operacion: Con perdia de: / Con ganancia de: \", \n",
    "\n",
    "# -- Paso 4 -- Generar un vector de fechas, de F1 hasta F2\n",
    "\n",
    "par0_cap = 100000   # Capital a utilizar $100,000 Usd\n",
    "par1_mar = 1000000  # Unidades por operacion maximo 1'000,000\n",
    "\n",
    "\n",
    "# -- Criterios para trading\n",
    "# -- para cerrar una operacion: 1) TP o SL, 2) Regla con indicador\n",
    "\n",
    "indice = [1, 2, 3, 4, 5]\n",
    "columnas = ['A','B', 'C', 'D']\n",
    "df = pd.DataFrame(index=indice, columns=columnas)\n",
    "df = df.fillna(0) # -- llenar todas las celdas con 0s\n"
   ]
  },
  {
   "cell_type": "code",
   "execution_count": null,
   "metadata": {},
   "outputs": [],
   "source": []
  },
  {
   "cell_type": "code",
   "execution_count": null,
   "metadata": {},
   "outputs": [],
   "source": []
  },
  {
   "cell_type": "code",
   "execution_count": null,
   "metadata": {},
   "outputs": [],
   "source": []
  },
  {
   "cell_type": "code",
   "execution_count": null,
   "metadata": {},
   "outputs": [],
   "source": []
  },
  {
   "cell_type": "code",
   "execution_count": null,
   "metadata": {},
   "outputs": [],
   "source": []
  },
  {
   "cell_type": "code",
   "execution_count": null,
   "metadata": {},
   "outputs": [],
   "source": []
  },
  {
   "cell_type": "code",
   "execution_count": null,
   "metadata": {},
   "outputs": [],
   "source": []
  },
  {
   "cell_type": "code",
   "execution_count": null,
   "metadata": {},
   "outputs": [],
   "source": []
  },
  {
   "cell_type": "code",
   "execution_count": null,
   "metadata": {},
   "outputs": [],
   "source": []
  },
  {
   "cell_type": "code",
   "execution_count": null,
   "metadata": {},
   "outputs": [],
   "source": []
  },
  {
   "cell_type": "code",
   "execution_count": null,
   "metadata": {},
   "outputs": [],
   "source": []
  },
  {
   "cell_type": "code",
   "execution_count": null,
   "metadata": {},
   "outputs": [],
   "source": []
  },
  {
   "cell_type": "code",
   "execution_count": null,
   "metadata": {},
   "outputs": [],
   "source": []
  },
  {
   "cell_type": "code",
   "execution_count": null,
   "metadata": {},
   "outputs": [],
   "source": []
  },
  {
   "cell_type": "code",
   "execution_count": null,
   "metadata": {},
   "outputs": [],
   "source": []
  },
  {
   "cell_type": "code",
   "execution_count": null,
   "metadata": {},
   "outputs": [],
   "source": []
  },
  {
   "cell_type": "code",
   "execution_count": null,
   "metadata": {},
   "outputs": [],
   "source": []
  },
  {
   "cell_type": "code",
   "execution_count": null,
   "metadata": {},
   "outputs": [],
   "source": []
  },
  {
   "cell_type": "code",
   "execution_count": null,
   "metadata": {},
   "outputs": [],
   "source": []
  },
  {
   "cell_type": "code",
   "execution_count": null,
   "metadata": {},
   "outputs": [],
   "source": []
  },
  {
   "cell_type": "code",
   "execution_count": null,
   "metadata": {},
   "outputs": [],
   "source": []
  },
  {
   "cell_type": "code",
   "execution_count": null,
   "metadata": {},
   "outputs": [],
   "source": []
  },
  {
   "cell_type": "code",
   "execution_count": null,
   "metadata": {},
   "outputs": [],
   "source": []
  },
  {
   "cell_type": "code",
   "execution_count": null,
   "metadata": {},
   "outputs": [],
   "source": []
  },
  {
   "cell_type": "code",
   "execution_count": null,
   "metadata": {},
   "outputs": [],
   "source": []
  },
  {
   "cell_type": "code",
   "execution_count": null,
   "metadata": {},
   "outputs": [],
   "source": []
  },
  {
   "cell_type": "code",
   "execution_count": null,
   "metadata": {},
   "outputs": [],
   "source": []
  },
  {
   "cell_type": "code",
   "execution_count": null,
   "metadata": {},
   "outputs": [],
   "source": []
  },
  {
   "cell_type": "code",
   "execution_count": null,
   "metadata": {},
   "outputs": [],
   "source": []
  },
  {
   "cell_type": "code",
   "execution_count": null,
   "metadata": {},
   "outputs": [],
   "source": []
  },
  {
   "cell_type": "code",
   "execution_count": null,
   "metadata": {},
   "outputs": [],
   "source": []
  },
  {
   "cell_type": "code",
   "execution_count": null,
   "metadata": {},
   "outputs": [],
   "source": []
  },
  {
   "cell_type": "code",
   "execution_count": null,
   "metadata": {},
   "outputs": [],
   "source": []
  },
  {
   "cell_type": "code",
   "execution_count": null,
   "metadata": {},
   "outputs": [],
   "source": []
  },
  {
   "cell_type": "code",
   "execution_count": null,
   "metadata": {},
   "outputs": [],
   "source": []
  },
  {
   "cell_type": "code",
   "execution_count": null,
   "metadata": {},
   "outputs": [],
   "source": []
  },
  {
   "cell_type": "code",
   "execution_count": null,
   "metadata": {},
   "outputs": [],
   "source": []
  },
  {
   "cell_type": "code",
   "execution_count": null,
   "metadata": {},
   "outputs": [],
   "source": []
  },
  {
   "cell_type": "code",
   "execution_count": null,
   "metadata": {},
   "outputs": [],
   "source": []
  },
  {
   "cell_type": "code",
   "execution_count": null,
   "metadata": {},
   "outputs": [],
   "source": []
  },
  {
   "cell_type": "code",
   "execution_count": null,
   "metadata": {},
   "outputs": [],
   "source": []
  },
  {
   "cell_type": "code",
   "execution_count": null,
   "metadata": {},
   "outputs": [],
   "source": []
  },
  {
   "cell_type": "code",
   "execution_count": null,
   "metadata": {},
   "outputs": [],
   "source": []
  },
  {
   "cell_type": "code",
   "execution_count": null,
   "metadata": {},
   "outputs": [],
   "source": []
  },
  {
   "cell_type": "code",
   "execution_count": null,
   "metadata": {},
   "outputs": [],
   "source": [
    ""
   ]
  },
  {
   "cell_type": "code",
   "execution_count": null,
   "metadata": {},
   "outputs": [],
   "source": []
  },
  {
   "cell_type": "code",
   "execution_count": null,
   "metadata": {},
   "outputs": [],
   "source": []
  },
  {
   "cell_type": "code",
   "execution_count": null,
   "metadata": {},
   "outputs": [],
   "source": []
  },
  {
   "cell_type": "code",
   "execution_count": null,
   "metadata": {},
   "outputs": [],
   "source": []
  },
  {
   "cell_type": "code",
   "execution_count": null,
   "metadata": {},
   "outputs": [],
   "source": []
  },
  {
   "cell_type": "code",
   "execution_count": null,
   "metadata": {},
   "outputs": [],
   "source": []
  }
 ],
 "metadata": {
  "kernelspec": {
   "display_name": "Python 3",
   "language": "python",
   "name": "python3"
  },
  "language_info": {
   "codemirror_mode": {
    "name": "ipython",
    "version": 3
   },
   "file_extension": ".py",
   "mimetype": "text/x-python",
   "name": "python",
   "nbconvert_exporter": "python",
   "pygments_lexer": "ipython3",
   "version": "3.6.5"
  }
 },
 "nbformat": 4,
 "nbformat_minor": 2
}
