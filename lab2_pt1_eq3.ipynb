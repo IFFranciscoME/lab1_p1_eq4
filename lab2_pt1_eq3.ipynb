{
 "cells": [
  {
   "cell_type": "code",
   "execution_count": null,
   "metadata": {},
   "outputs": [],
   "source": [
    "# Laboratorio 3\n",
    "## Microestructuras y Sistemas de Trading\n",
    "###  Karen Medel y Pablo Mendoza\n"
   ]
  },
  {
   "cell_type": "code",
   "execution_count": 1,
   "metadata": {},
   "outputs": [
    {
     "name": "stdout",
     "output_type": "stream",
     "text": [
      "            TimeStamp      Open      High       Low     Close\n0 2019-02-17 22:00:00  19.26516  19.26516  19.26352  19.26352\n1 2019-02-17 22:05:00  19.26350  19.26438  19.26350  19.26399\n2 2019-02-17 22:10:00  19.26398  19.26691  19.26372  19.26688\n3 2019-02-17 22:15:00  19.26694  19.26710  19.26664  19.26702\n4 2019-02-17 22:20:00  19.26700  19.26701  19.26688  19.26688\n               TimeStamp      Open      High       Low     Close\n3246 2019-03-05 04:30:00  19.31696  19.31960  19.31694  19.31712\n3247 2019-03-05 04:35:00  19.31710  19.31728  19.31700  19.31700\n3248 2019-03-05 04:40:00  19.31698  19.31716  19.31670  19.31687\n3249 2019-03-05 04:45:00  19.31690  19.31705  19.31668  19.31697\n3250 2019-03-05 04:50:00  19.31690  19.31723  19.31682  19.31717\n"
     ]
    }
   ],
   "source": [
    "# -- Libraries Importation -- #\n",
    "import ta as ta\n",
    "import pandas as pd\n",
    "import plotly as py\n",
    "from oandapyV20 import API\n",
    "import plotly.graph_objs as go\n",
    "from datetime import date, datetime, timedelta\n",
    "from dateutil.relativedelta import relativedelta\n",
    "import oandapyV20.endpoints.instruments as instruments\n",
    "# -- DataFrame Parameters -- #\n",
    "pd.set_option('display.max_rows', 20)\n",
    "pd.set_option('display.max_columns', 20)\n",
    "pd.set_option('display.width', 1000)\n",
    "# -- OANDA Parameters -- #\n",
    "A1_OA_Da = 16                     # Day Align\n",
    "A1_OA_Ta = \"America/Mexico_City\"  # Time Align\n",
    "A1_OA_Ai = \"101-004-2221697-001\"  # Id de cuenta\n",
    "A1_OA_At = \"practice\"             # Tipo de cuenta\n",
    "A1_OA_In = \"USD_MXN\"              # Instrumento\n",
    "A1_OA_Gn = \"M5\"                   # Granularidad de velas (Minutes 5)\n",
    "A1_OA_Ak = '4' + 'df969137c0bf800c5a04604c49450db-0e783d4124aa50b5736ebfe1a350eac' + '1'\n",
    "\n",
    "# -- Data Range Function -- # \n",
    "\n",
    "\n",
    "def date_range(start_date_, end_date_, increment, period):\n",
    "    \"\"\"\n",
    "    This function creates a list of the data range that will be imported\n",
    "    :param start_date_: Start Date\n",
    "    :param end_date_: End Date\n",
    "    :param increment: number of increments\n",
    "    :param period: type of increment (days, hours, minutes, etc)\n",
    "    :return: list of the data range\n",
    "    \"\"\"\n",
    "    result = []\n",
    "    nxt = start_date_\n",
    "    delta = relativedelta(**{period: increment})\n",
    "    while nxt <= end_date_:\n",
    "        result.append(nxt)\n",
    "        nxt += delta\n",
    "    return result\n",
    "\n",
    "\n",
    "# -- Download Initial DAta -- #\n",
    "start_date = date(2019, 2, 16)\n",
    "end_date = date(2019, 3, 5)\n",
    "date_a = date_range(start_date, end_date, 17, 'days')\n",
    "\n",
    "F1 = date_a[0].strftime('%Y-%m-%dT%H:%M:%S')\n",
    "F2 = date_a[1].strftime('%Y-%m-%dT%H:%M:%S')\n",
    "\n",
    "# -- OANDA API Initialisation -- #\n",
    "api = API(access_token=A1_OA_Ak)\n",
    "# -- Historical DAta Download -- #\n",
    "params = {\"granularity\": A1_OA_Gn, \"price\": \"M\", \"dailyAlignment\": A1_OA_Da,\n",
    "          \"alignmentTimezone\": A1_OA_Ta, \"from\": F1, \"to\": F2}\n",
    "A1_Req1 = instruments.InstrumentsCandles(instrument=A1_OA_In, params=params)\n",
    "A1_Hist = api.request(A1_Req1)\n",
    "list_a = []\n",
    "for i in range(len(A1_Hist['candles'])-1):\n",
    "        list_a.append({'TimeStamp': A1_Hist['candles'][i]['time'],\n",
    "                       'Open': A1_Hist['candles'][i]['mid']['o'],\n",
    "                       'High': A1_Hist['candles'][i]['mid']['h'],\n",
    "                       'Low': A1_Hist['candles'][i]['mid']['l'],\n",
    "                       'Close': A1_Hist['candles'][i]['mid']['c']})\n",
    "\n",
    "pd_hist = pd.DataFrame(list_a)\n",
    "pd_hist = pd_hist[['TimeStamp', 'Open', 'High', 'Low', 'Close']]\n",
    "pd_hist['TimeStamp'] = pd.to_datetime(pd_hist['TimeStamp'])\n",
    "print(pd_hist.head())\n",
    "print(pd_hist.tail())\n",
    "# -- Data Structure -- #\n",
    "df1_Prices = pd_hist\n"
   ]
  },
  {
   "cell_type": "code",
   "execution_count": 2,
   "metadata": {},
   "outputs": [
    {
     "name": "stdout",
     "output_type": "stream",
     "text": [
      "3251\n            TimeStamp      Open      High       Low     Close  EMA_Close\n0 2019-02-17 22:00:00  19.26516  19.26516  19.26352  19.26352        NaN\n1 2019-02-17 22:05:00  19.26350  19.26438  19.26350  19.26399        NaN\n2 2019-02-17 22:10:00  19.26398  19.26691  19.26372  19.26688        NaN\n3 2019-02-17 22:15:00  19.26694  19.26710  19.26664  19.26702        NaN\n4 2019-02-17 22:20:00  19.26700  19.26701  19.26688  19.26688        NaN\n               TimeStamp      Open      High       Low     Close  EMA_Close\n3246 2019-03-05 04:30:00  19.31696  19.31960  19.31694  19.31712  19.311873\n3247 2019-03-05 04:35:00  19.31710  19.31728  19.31700  19.31700  19.312361\n3248 2019-03-05 04:40:00  19.31698  19.31716  19.31670  19.31687  19.312790\n3249 2019-03-05 04:45:00  19.31690  19.31705  19.31668  19.31697  19.313188\n3250 2019-03-05 04:50:00  19.31690  19.31723  19.31682  19.31717  19.313568\n"
     ]
    }
   ],
   "source": [
    "# -- Indicators Functions from Technical Analysis (T.A.) -- #\n",
    "# These functions will add a column to the Historical DataFrame with the value of the indicator.\n",
    "\n",
    "# -- Exponential Moving Average (EMA) -- #\n",
    "pd_hist['EMA_Close'] = ta.ema(series=pd_hist['Close'], periods=20)\n",
    "print(len(pd_hist['EMA_Close']))\n",
    "print(pd_hist.head())\n",
    "print(pd_hist.tail())\n",
    "\n",
    "\n",
    "\n",
    "\n",
    "\n",
    "# -- Indicators Functions to Open and Close positions -- #\n",
    "# These functions will Open and Close positions depending of the values of each T.A. indicators.\n",
    "# For opening operations, Take Profit (TP) level will be 2000 pips from spot.\n",
    "# For closing operations, Stop Loss (SL) level will be 1000 pips from spot.\n",
    "# TP and SL levels will be above or below spot depending if the position is Long or Short.\n",
    "\n",
    "\n",
    "\n",
    "\n",
    "\n",
    "\n"
   ]
  },
  {
   "cell_type": "code",
   "execution_count": 10,
   "metadata": {},
   "outputs": [],
   "source": [
    ""
   ]
  },
  {
   "cell_type": "code",
   "execution_count": null,
   "metadata": {},
   "outputs": [],
   "source": []
  },
  {
   "cell_type": "code",
   "execution_count": null,
   "metadata": {},
   "outputs": [],
   "source": []
  },
  {
   "cell_type": "code",
   "execution_count": null,
   "metadata": {},
   "outputs": [],
   "source": [
    "# -- Operation DataFrame -- #\n",
    "\n",
    "\n",
    "\n",
    "\n",
    "\n",
    "\n",
    "# -- Paso 2 -- en Data Frame (df2_operaciones)\n",
    "# -- -- Fecha, Folio (1 a n), Operacion (1 = compra, -1 = venta), Unidades (0 a n),\n",
    "# -- -- Margen (0 a n), Comentario (\"razon con base al indicador\")\n",
    "# -- -- Precio_apertura, Precio_cierre\n",
    "\n",
    "# -- Paso 3 -- en Data Frame Cuenta (df3_cuenta)\n",
    "# -- -- Fecha, Capital (Efectivo $), Flotante ($),\n",
    "# -- -- Balance (Capital+Flotante), Rend_Balance_acm, Comentario (\"Se abrio operacion: compra/venta\",\n",
    "# -- -- \"Se cerro operacion: Con perdia de: / Con ganancia de: \", \n",
    "\n",
    "# -- Paso 4 -- Generar un vector de fechas, de F1 hasta F2\n",
    "\n",
    "par0_cap = 100000   # Capital a utilizar $100,000 Usd\n",
    "par1_mar = 1000000  # Unidades por operacion maximo 1'000,000\n",
    "\n",
    "\n",
    "# -- Criterios para trading\n",
    "# -- para cerrar una operacion: 1) TP o SL, 2) Regla con indicador\n",
    "\n",
    "indice = [1, 2, 3, 4, 5]\n",
    "columnas = ['A','B', 'C', 'D']\n",
    "df = pd.DataFrame(index=indice, columns=columnas)\n",
    "df = df.fillna(0) # -- llenar todas las celdas con 0s\n",
    "\n",
    "\n",
    "\n",
    "# -- ---------------------------------------------------------------- Agregar analisis tecnico -- #\n",
    "# -- ---------------------------------------------------------------- ------------------------ -- #\n",
    "\n",
    "\n",
    "\n",
    "\n",
    "# -- ------------------------------------------------------------------- --------------------- -- #\n",
    "# -- ------------------------------------------------------------------- --------------------- -- #\n",
    "\n",
    "trace0 = go.Scatter(x=pd_hist['TimeStamp'], y=pd_hist['ema_Close'],\n",
    "                    mode='lines', name='lines0')\n",
    "\n",
    "trace1 = go.Scatter(x=pd_hist['TimeStamp'], y=pd_hist['Close'],\n",
    "                    mode='lines', name='lines1')\n",
    "\n",
    "data = [trace0, trace1]\n",
    "\n",
    "py.offline.plot(data, filename='file.html')\n",
    "\n",
    "\n",
    "\n",
    "\n",
    "\n",
    "\n"
   ]
  },
  {
   "cell_type": "code",
   "execution_count": null,
   "metadata": {},
   "outputs": [],
   "source": []
  },
  {
   "cell_type": "code",
   "execution_count": null,
   "metadata": {},
   "outputs": [],
   "source": []
  },
  {
   "cell_type": "code",
   "execution_count": null,
   "metadata": {},
   "outputs": [],
   "source": []
  },
  {
   "cell_type": "code",
   "execution_count": null,
   "metadata": {},
   "outputs": [],
   "source": []
  },
  {
   "cell_type": "code",
   "execution_count": null,
   "metadata": {},
   "outputs": [],
   "source": []
  },
  {
   "cell_type": "code",
   "execution_count": null,
   "metadata": {},
   "outputs": [],
   "source": []
  },
  {
   "cell_type": "code",
   "execution_count": null,
   "metadata": {},
   "outputs": [],
   "source": [
    ""
   ]
  },
  {
   "cell_type": "code",
   "execution_count": null,
   "metadata": {},
   "outputs": [],
   "source": []
  },
  {
   "cell_type": "code",
   "execution_count": null,
   "metadata": {},
   "outputs": [],
   "source": []
  },
  {
   "cell_type": "code",
   "execution_count": null,
   "metadata": {},
   "outputs": [],
   "source": []
  },
  {
   "cell_type": "code",
   "execution_count": null,
   "metadata": {},
   "outputs": [],
   "source": []
  },
  {
   "cell_type": "code",
   "execution_count": null,
   "metadata": {},
   "outputs": [],
   "source": []
  },
  {
   "cell_type": "code",
   "execution_count": null,
   "metadata": {},
   "outputs": [],
   "source": []
  },
  {
   "cell_type": "code",
   "execution_count": null,
   "metadata": {},
   "outputs": [],
   "source": []
  },
  {
   "cell_type": "code",
   "execution_count": null,
   "metadata": {},
   "outputs": [],
   "source": []
  }
 ],
 "metadata": {
  "kernelspec": {
   "display_name": "Python 3",
   "language": "python",
   "name": "python3"
  },
  "language_info": {
   "codemirror_mode": {
    "name": "ipython",
    "version": 3
   },
   "file_extension": ".py",
   "mimetype": "text/x-python",
   "name": "python",
   "nbconvert_exporter": "python",
   "pygments_lexer": "ipython3",
   "version": "3.6.5"
  }
 },
 "nbformat": 4,
 "nbformat_minor": 2
}
