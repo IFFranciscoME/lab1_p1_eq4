{
 "cells": [
  {
   "cell_type": "markdown",
   "metadata": {},
   "source": [
    "# Laboratorio 2\n",
    "## Microestructuras y Sistemas de Trading\n",
    "### Valentina Escobar y Pablo Mendoza"
   ]
  },
  {
   "cell_type": "markdown",
   "metadata": {},
   "source": [
    "El presente laboratorio tiene como objetivo analizar el comportamiento de un ETF de acuerdo a la conformación de este y al movimiento de los precios que se presentaron entre el 31 de marzo del 2017 hasta el 29 de marzo del 2018 con el fin de identificar que tan conveniente es para un inversionista rebalancear diariamente durante un año comprando $n$ acciones cuando el rendimiento diario sea de -1%. Se contrastará el capital inicial con el capital final deshaciendo todas las pocisiones del portafolo el 1 de Marzo de 2018. Se realizan diferentes medidas de desempeño que permitan comparar los portafolios resultantes."
   ]
  },
  {
   "cell_type": "markdown",
   "metadata": {},
   "source": [
    "## Librerías y Funciones "
   ]
  },
  {
   "cell_type": "code",
   "execution_count": 1,
   "metadata": {},
   "outputs": [],
   "source": [
    "# Librerias\n",
    "import quandl\n",
    "import datetime\n",
    "import numpy as np\n",
    "import pandas as pd\n",
    "import scipy.stats as stats"
   ]
  },
  {
   "cell_type": "code",
   "execution_count": 2,
   "metadata": {},
   "outputs": [],
   "source": [
    "quandl.ApiConfig.api_key = \"My9ygJsz7yTDx_9jcneH\" # Quandl API key\n",
    "fechas = list(['2017-03-31','2018-03-29'])"
   ]
  },
  {
   "cell_type": "code",
   "execution_count": 89,
   "metadata": {},
   "outputs": [],
   "source": [
    "data_csv = pd.read_csv('/Users/pablomendoza/Documents/ITESO/Trading/Lab_1/Trading/Data/IJH_holdings-1.csv', skiprows = [0,1,2,3,4,5,6,7,8,9], index_col = ['Ticker'])\n",
    "tick = list(data_csv.index)\n",
    "weights = data_csv['Weight (%)']\n",
    "#del data_csv\n",
    "def Download_QuandL(fechas:'Dates_list ', tick:'Tickers of Stock'):\n",
    "    dates = { 'gte': fechas[0], 'lte': fechas[1] }\n",
    "    column = { 'columns': ['date', 'Open', 'Close']}\n",
    "    data = quandl.get_table('WIKI/PRICES', qopts = column, ticker = tick, date = dates, paginate=True)# ticker = 'WIKI/AAPL' #'AAPL.US'\n",
    "    data = data.iloc[::-1]\n",
    "    data = data.reset_index()\n",
    "    data = data.drop(['None'],1)\n",
    "    return data\n",
    "def All_Data(fechas:'Dates_list ', tick:'Ticker'):\n",
    "    d = {} # Crea un Diccionario Vacío\n",
    "    for i in range(len(tick)): # ciclo que descarga los datos de Quandl y los guarda como DataFrames en un Diccionario\n",
    "        nom = str(tick[i])\n",
    "        d[\"_{0}\".format(nom)] = Download_QuandL(fechas, tick[i])\n",
    "    return d\n",
    "def Rebalanceo(df, Com, Cap_I, R_R, n_a, we, op):\n",
    "    \"\"\"\n",
    "    Esta funcion hace los rebalanceos de cada activo de forma diaria por una año\n",
    "    :param df: DataFrame del Activo\n",
    "    :param Com: Comisión\n",
    "    :param Cap_I: Capital Inicial\n",
    "    :param R_R: Rendimiento de Rebalanceo\n",
    "    :param n_a: Acciones que se compran al rebalancear\n",
    "    :param we: Weight of each stock on the porfolio\n",
    "    :param op: Dataframe to save operation\n",
    "    :return: \n",
    "    \"\"\"\n",
    "    a = (df['close']/df['open'])-1\n",
    "    P_se = list(df['open']*.99)\n",
    "    add_s = list()\n",
    "    Opp = list()\n",
    "    comi = list()\n",
    "    In_shares = np.floor((we*Cap_I)/df['close'][0])\n",
    "    for i in range(len(df)):\n",
    "        if a.iloc[i] < R_R:\n",
    "            add_s.append(n_a)\n",
    "            Opp.append('Compra')\n",
    "            comi.append(Com*df['close'].iloc[i]*n_a)\n",
    "\n",
    "        else:\n",
    "            add_s.append(0)\n",
    "            Opp.append('-')\n",
    "            comi.append(0)\n",
    "    df = df.join(pd.DataFrame(add_s, columns = ['# Added Shares']))\n",
    "    df = df.join(pd.DataFrame(Opp, columns = ['Operacion']))\n",
    "    df = df.join(pd.DataFrame(comi, columns = ['Comisión']))\n",
    "    df = df.join(pd.DataFrame(P_se, columns = ['Precio de Señal']))\n",
    "    Tot_Acciones = pd.DataFrame(list(df['# Added Shares'].cumsum()), columns = ['Total Shares'])+In_shares\n",
    "    df = df.join(Tot_Acciones)\n",
    "    Val_to_port = pd.DataFrame(list(df['close']*df['Total Shares']), columns = ['Value to ETF'])\n",
    "    df = df.join(Val_to_port)\n",
    "    \n",
    "    frames = [op, df[df.Operacion == 'Compra']]\n",
    "    op = pd.concat(frames)\n",
    "\n",
    "    \n",
    "    return df, op\n",
    "def Clean_Dicc(dic:'Diccionario a limpiar',sizes:'Tamaño deseado del DF'):\n",
    "    y = list(dic.keys())\n",
    "    for h in y:\n",
    "        if len(dic[h])!=248:\n",
    "            del dic[h]\n",
    "    return dic"
   ]
  },
  {
   "cell_type": "code",
   "execution_count": 4,
   "metadata": {},
   "outputs": [],
   "source": [
    "Data = All_Data(fechas, tick)"
   ]
  },
  {
   "cell_type": "code",
   "execution_count": 5,
   "metadata": {},
   "outputs": [],
   "source": [
    "d_full = Clean_Dicc(Data,248)"
   ]
  },
  {
   "cell_type": "code",
   "execution_count": 102,
   "metadata": {},
   "outputs": [],
   "source": [
    "tick = list(d_full.keys())\n",
    "d2 = {}\n",
    "op = pd.DataFrame(columns=['date', 'open', 'close', '# Added Shares', 'Operacion', 'Comisión', 'Precio de Señal', 'Total Shares', 'Value to ETF'])\n",
    "for j in range(len(tick)):\n",
    "    tabla , op = Rebalanceo(d_full[tick[j]],0.0003,1000000,-0.01,10,weights[j], op)\n",
    "    d2[\"Data{0}\".format(j)] = tabla\n",
    "op_2 = op.groupby('date')\n",
    "# for key, item in op_2:\n",
    "#     print(op_2.get_group(key), \"\\n\\n\")"
   ]
  },
  {
   "cell_type": "code",
   "execution_count": 103,
   "metadata": {},
   "outputs": [
    {
     "data": {
      "text/plain": [
       "0      609945.75\n",
       "1      604945.50\n",
       "2      598616.75\n",
       "3      588363.70\n",
       "4      586579.75\n",
       "5      586409.85\n",
       "6      585985.10\n",
       "7      589807.85\n",
       "8      581142.95\n",
       "9      578679.40\n",
       "10     588278.75\n",
       "11     583181.75\n",
       "12     587004.50\n",
       "13     591421.90\n",
       "14     593290.80\n",
       "15     600936.30\n",
       "16     602635.30\n",
       "17     609516.25\n",
       "18     618860.75\n",
       "19     577575.05\n",
       "20     585475.40\n",
       "21     592866.05\n",
       "22     585730.25\n",
       "23     586155.00\n",
       "24     589468.05\n",
       "25     582332.25\n",
       "26     573747.30\n",
       "27     580041.00\n",
       "28     577744.65\n",
       "29     581401.80\n",
       "         ...    \n",
       "218    796681.60\n",
       "219    813656.35\n",
       "220    819923.95\n",
       "221    816616.05\n",
       "222    808085.15\n",
       "223    811306.00\n",
       "224    816354.90\n",
       "225    830631.10\n",
       "226    839162.00\n",
       "227    832282.50\n",
       "228    830278.05\n",
       "229    818861.40\n",
       "230    827227.80\n",
       "231    831759.60\n",
       "232    838208.70\n",
       "233    842304.75\n",
       "234    850671.15\n",
       "235    868711.20\n",
       "236    867491.10\n",
       "237    861826.35\n",
       "238    859211.85\n",
       "239    855028.65\n",
       "240    855725.85\n",
       "241    851891.25\n",
       "242    855638.70\n",
       "243    856945.95\n",
       "244    840823.20\n",
       "245    832021.05\n",
       "246    856423.05\n",
       "247    848768.00\n",
       "Name: Value to ETF, Length: 248, dtype: float64"
      ]
     },
     "execution_count": 103,
     "metadata": {},
     "output_type": "execute_result"
    }
   ],
   "source": [
    "d2['Data0']['Value to ETF']"
   ]
  },
  {
   "cell_type": "code",
   "execution_count": null,
   "metadata": {},
   "outputs": [],
   "source": []
  }
 ],
 "metadata": {
  "kernelspec": {
   "display_name": "Python 3",
   "language": "python",
   "name": "python3"
  },
  "language_info": {
   "codemirror_mode": {
    "name": "ipython",
    "version": 3
   },
   "file_extension": ".py",
   "mimetype": "text/x-python",
   "name": "python",
   "nbconvert_exporter": "python",
   "pygments_lexer": "ipython3",
   "version": "3.6.5"
  }
 },
 "nbformat": 4,
 "nbformat_minor": 2
}
